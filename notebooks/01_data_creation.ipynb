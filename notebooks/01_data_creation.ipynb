{
 "cells": [
  {
   "cell_type": "code",
   "execution_count": 1,
   "id": "c0cc5691",
   "metadata": {},
   "outputs": [],
   "source": [
    "import pandas as pd\n",
    "import numpy as np\n",
    "from faker import Faker\n",
    "import random"
   ]
  },
  {
   "cell_type": "code",
   "execution_count": 2,
   "id": "36ce7e05",
   "metadata": {},
   "outputs": [],
   "source": [
    "# Initialize Faker\n",
    "fake = Faker()\n",
    "\n",
    "random.seed(42)\n",
    "np.random.seed(42)"
   ]
  },
  {
   "cell_type": "code",
   "execution_count": 3,
   "id": "c84ee5a2",
   "metadata": {},
   "outputs": [],
   "source": [
    "# --------------- #\n",
    "# Create Customer #\n",
    "# --------------- #\n",
    "\n",
    "n_customers = 500\n",
    "\n",
    "customer_data = []\n",
    "\n",
    "for _ in range(n_customers):\n",
    "    customer_data.append({\n",
    "        \"customer_id\": fake.uuid4(),\n",
    "        \"name\": fake.name(),\n",
    "        \"gender\": random.choice([\"Male\", \"Female\"]),\n",
    "        \"age\": random.randint(18, 70),\n",
    "        \"registration_channel\": random.choice([\"Online\", \"Offline\"]),\n",
    "        \"registration_date\": fake.date_between(start_date='-5y', end_date='-1y')\n",
    "    })\n",
    "\n",
    "customer_df = pd.DataFrame(customer_data)"
   ]
  },
  {
   "cell_type": "code",
   "execution_count": null,
   "id": "af41b536",
   "metadata": {},
   "outputs": [],
   "source": [
    "# Save\n",
    "customer_df.to_csv(\"../data/raw/customer.csv\", index=False)\n",
    "print(f\"Generated {len(customer_df)} customers.\")"
   ]
  },
  {
   "cell_type": "code",
   "execution_count": null,
   "id": "33a3988b",
   "metadata": {},
   "outputs": [],
   "source": [
    "# -------------------------- #\n",
    "# Create Online Transactions #\n",
    "# -------------------------- #\n",
    "\n",
    "online_transactions = []\n",
    "\n",
    "for _ in range(3000):\n",
    "    online_transactions.append({\n",
    "        \"transaction_id\": fake.uuid4(),\n",
    "        \"customer_id\": random.choice(customer_df[\"customer_id\"].values),\n",
    "        \"transaction_date\": fake.date_between(start_date='-5y', end_date='-1y'),\n",
    "        \"amount\": round(random.uniform(100, 5000), 2),\n",
    "        \"platform\": random.choice([\"Website\", \"App\"])\n",
    "    })\n",
    "\n",
    "online_df = pd.DataFrame(online_transactions)"
   ]
  },
  {
   "cell_type": "code",
   "execution_count": 6,
   "id": "d0a3944b",
   "metadata": {},
   "outputs": [
    {
     "name": "stdout",
     "output_type": "stream",
     "text": [
      "Generated 3000 online transactions.\n"
     ]
    }
   ],
   "source": [
    "online_df.to_csv(\"../data/raw/online_transactions.csv\", index=False)\n",
    "print(f\"Generated {len(online_df)} online transactions.\")"
   ]
  },
  {
   "cell_type": "code",
   "execution_count": 7,
   "id": "a141aa0a",
   "metadata": {},
   "outputs": [],
   "source": [
    "# --------------------------- #\n",
    "# Create Offline Transactions #\n",
    "# --------------------------- #\n",
    "\n",
    "offline_transactions = []\n",
    "\n",
    "for _ in range(3000):\n",
    "    offline_transactions.append({\n",
    "        \"transaction_id\": fake.uuid4(),\n",
    "        \"customer_id\": random.choice(customer_df[\"customer_id\"].values),\n",
    "        \"transaction_date\": fake.date_between(start_date='-5y', end_date='-1y'),\n",
    "        \"amount\": round(random.uniform(100, 5000), 2),\n",
    "        \"store_location\": random.choice([\"Bangkok\", \"Chiang Mai\", \"Pattaya\", \"Phuket\", \"Khon Kaen\"])\n",
    "    })\n",
    "\n",
    "offline_df = pd.DataFrame(offline_transactions)"
   ]
  },
  {
   "cell_type": "code",
   "execution_count": 9,
   "id": "dfeb964a",
   "metadata": {},
   "outputs": [
    {
     "name": "stdout",
     "output_type": "stream",
     "text": [
      "Generated 3000 offline transactions.\n"
     ]
    }
   ],
   "source": [
    "offline_df.to_csv(\"../data/raw/offline_transactions.csv\", index=False)\n",
    "print(f\"Generated {len(offline_df)} offline transactions.\")"
   ]
  },
  {
   "cell_type": "code",
   "execution_count": 11,
   "id": "6e7fb425",
   "metadata": {},
   "outputs": [],
   "source": [
    "# --------------------------- #\n",
    "#    Create Loyalty Points    #\n",
    "# --------------------------- #\n",
    "\n",
    "loyalty_points = []\n",
    "\n",
    "for _ in range(5000):\n",
    "    earned = random.randint(10, 500)\n",
    "    redeemed = random.choice([0, random.randint(0, earned)])\n",
    "    loyalty_points.append({\n",
    "        \"point_id\": fake.uuid4(),\n",
    "        \"customer_id\": random.choice(customer_df[\"customer_id\"].values),\n",
    "        \"points_earned\": earned,\n",
    "        \"points_redeemed\": redeemed,\n",
    "        \"transaction_date\": fake.date_between(start_date='-5y', end_date='-1y'),\n",
    "        \"channel\": random.choice([\"Online\", \"Offline\"])\n",
    "    })\n",
    "\n",
    "loyalty_df = pd.DataFrame(loyalty_points)"
   ]
  },
  {
   "cell_type": "code",
   "execution_count": 12,
   "id": "f17fea2c",
   "metadata": {},
   "outputs": [
    {
     "name": "stdout",
     "output_type": "stream",
     "text": [
      "Generated 5000 loyalty points records.\n"
     ]
    }
   ],
   "source": [
    "loyalty_df.to_csv(\"../data/raw/loyalty_points.csv\", index=False)\n",
    "print(f\"Generated {len(loyalty_df)} loyalty points records.\")"
   ]
  }
 ],
 "metadata": {
  "kernelspec": {
   "display_name": ".venv",
   "language": "python",
   "name": "python3"
  },
  "language_info": {
   "codemirror_mode": {
    "name": "ipython",
    "version": 3
   },
   "file_extension": ".py",
   "mimetype": "text/x-python",
   "name": "python",
   "nbconvert_exporter": "python",
   "pygments_lexer": "ipython3",
   "version": "3.13.2"
  }
 },
 "nbformat": 4,
 "nbformat_minor": 5
}
